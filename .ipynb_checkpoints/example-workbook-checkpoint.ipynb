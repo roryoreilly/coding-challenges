{
 "cells": [
  {
   "cell_type": "markdown",
   "metadata": {},
   "source": [
    "# Example Workbook\n",
    "\n",
    "## Problem\n",
    "Description of the problem goes here\n",
    "\n"
   ]
  },
  {
   "cell_type": "markdown",
   "metadata": {},
   "source": [
    "## Questions asked and constraints\n",
    "- Any questions that I have\n",
    "    - A possible answer that the person creating the problem could give\n",
    "- Example, Should I care about stack size\n",
    "    - "
   ]
  },
  {
   "cell_type": "markdown",
   "metadata": {},
   "source": [
    "## Algorithm 1\n",
    "We will place the string into a set. If the sizes of the original string and the set are the same then there must not be any repeated characters\n",
    "\n",
    "### Complexity:\n",
    "Time: O(n)\n",
    "Space: Additional O(n)\n",
    "\n",
    "### Code"
   ]
  },
  {
   "cell_type": "code",
   "execution_count": 36,
   "metadata": {},
   "outputs": [],
   "source": [
    "class UniqueChars(object):\n",
    "    def has_unique_chars(self, string):\n",
    "        if string == None:\n",
    "            return False\n",
    "        return len(set(string)) == len(string)"
   ]
  },
  {
   "cell_type": "markdown",
   "metadata": {},
   "source": [
    "## Unit Tests"
   ]
  },
  {
   "cell_type": "code",
   "execution_count": 37,
   "metadata": {},
   "outputs": [
    {
     "name": "stdout",
     "output_type": "stream",
     "text": [
      "Overwriting test_unique_chars.py\n"
     ]
    }
   ],
   "source": [
    "%%writefile test_unique_chars.py\n",
    "from nose.tools import assert_equal\n",
    "\n",
    "class TestUniqueChars(object):\n",
    "    def test_unique_chars(self, func):\n",
    "        assert_equal(func(None), False)\n",
    "        assert_equal(func(''), True)\n",
    "        assert_equal(func('foo'), False)\n",
    "        assert_equal(func('bar'),True)\n",
    "        print('Success: test_unique_chars')\n",
    "        \n",
    "def main():\n",
    "    test = TestUniqueChars()\n",
    "    unique_chars = UniqueChars()\n",
    "    test.test_unique_chars(unique_chars.has_unique_chars)\n",
    "    \n",
    "if __name__ == '__main__':\n",
    "    main()"
   ]
  },
  {
   "cell_type": "code",
   "execution_count": 38,
   "metadata": {},
   "outputs": [
    {
     "name": "stdout",
     "output_type": "stream",
     "text": [
      "Success: test_unique_chars\n"
     ]
    }
   ],
   "source": [
    "%run -i test_unique_chars.py"
   ]
  },
  {
   "cell_type": "code",
   "execution_count": null,
   "metadata": {},
   "outputs": [],
   "source": []
  }
 ],
 "metadata": {
  "kernelspec": {
   "display_name": "Python 3",
   "language": "python",
   "name": "python3"
  },
  "language_info": {
   "codemirror_mode": {
    "name": "ipython",
    "version": 3
   },
   "file_extension": ".py",
   "mimetype": "text/x-python",
   "name": "python",
   "nbconvert_exporter": "python",
   "pygments_lexer": "ipython3",
   "version": "3.5.6"
  }
 },
 "nbformat": 4,
 "nbformat_minor": 2
}
