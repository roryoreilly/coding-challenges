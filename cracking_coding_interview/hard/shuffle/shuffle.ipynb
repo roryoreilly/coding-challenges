{
 "cells": [
  {
   "cell_type": "markdown",
   "metadata": {},
   "source": [
    "# Shuffle Deck\n",
    "\n",
    "## Problem\n",
    "Write a method to shuffle a deck of cards. It must be a perfect shuffle-in other words, each\n",
    "of the 52! permutations of the deck has to be equally likely. Assume that you are given a random\n",
    "number generator which is perfect. "
   ]
  },
  {
   "cell_type": "markdown",
   "metadata": {},
   "source": [
    "## Questions asked and constraints\n",
    "- What am I given?\n",
    "    - A list, index1, index2\n",
    "- Will I be given different indices?\n",
    "    - Yes\n",
    "- Will the indices be in the length of the list?\n",
    "    - Yes"
   ]
  },
  {
   "cell_type": "markdown",
   "metadata": {},
   "source": [
    "## Algorithm 1\n",
    "Describe the algorithm\n",
    "\n",
    "### Complexity:\n",
    "    Time: \n",
    "    Space: \n",
    "\n",
    "### Code"
   ]
  },
  {
   "cell_type": "code",
   "execution_count": 31,
   "metadata": {},
   "outputs": [],
   "source": [
    "import random\n",
    "from enum import Enum\n",
    "\n",
    "class Suit(Enum):\n",
    "    Heart = 0\n",
    "    Diamond = 1\n",
    "    Spade = 2\n",
    "    Club = 3\n",
    "\n",
    "class Card:\n",
    "    def __init__(self, suit, value):\n",
    "        self.suit = suit\n",
    "        self.value = value\n",
    "    \n",
    "    def get_value(self):\n",
    "        if self.value > 1 & self.value < 11:\n",
    "            return self.value\n",
    "        elif self.value == 1:\n",
    "            return 'A'\n",
    "        elif self.value == 11:\n",
    "            return 'J'\n",
    "        elif self.value == 12:\n",
    "            return 'Q'\n",
    "        elif self.value == 13:\n",
    "            return 'K'\n",
    "        raise Exception('Value is impossible')\n",
    "        \n",
    "    def get_suit(self):\n",
    "        if self.suit == Suit.Heart:\n",
    "            return \"h\"\n",
    "        if self.suit == Suit.Diamond:\n",
    "            return \"d\"\n",
    "        if self.suit == Suit.Spade:\n",
    "            return \"s\"\n",
    "        if self.suit == Suit.Club:\n",
    "            return \"c\"\n",
    "        return Exception('Unknown suit')\n",
    "        \n",
    "    def to_string(self):\n",
    "        return \"{}{}\".format(self.get_value(), self.get_suit())\n",
    "\n",
    "class Deck:\n",
    "    def __init__(self):\n",
    "        self.cards = self.__create_deck()\n",
    "        \n",
    "    def __create_deck(self):\n",
    "        _cards = []\n",
    "        for suit in Suit:\n",
    "            for value in range(1, 14):\n",
    "                _cards.append(Card(suit, value))\n",
    "        return _cards\n",
    "    \n",
    "    def shuffle(self):\n",
    "        random.shuffle(self.cards)\n",
    "    \n",
    "    def to_list(self):\n",
    "        arrangement = []\n",
    "        for card in self.cards:\n",
    "            arrangement.append(card.to_string())\n",
    "        return arrangement"
   ]
  },
  {
   "cell_type": "markdown",
   "metadata": {},
   "source": [
    "## Unit Tests"
   ]
  },
  {
   "cell_type": "code",
   "execution_count": 36,
   "metadata": {},
   "outputs": [
    {
     "name": "stdout",
     "output_type": "stream",
     "text": [
      "Overwriting shuffle_deck.py\n"
     ]
    }
   ],
   "source": [
    "%%writefile shuffle_deck.py\n",
    "from nose.tools import assert_equal\n",
    "from nose.tools import assert_not_equal\n",
    "\n",
    "class TestSolution(object):\n",
    "    def test_solution(self, deck):\n",
    "        initial_deck = deck.to_list()\n",
    "        assert_equal(initial_deck[0], 'Ah')\n",
    "        assert_equal(len(initial_deck), 52)\n",
    "        \n",
    "        deck.shuffle()\n",
    "        shuffle_deck = deck.to_list()\n",
    "        assert_not_equal(shuffle_deck[0], 'Ah')\n",
    "        assert_not_equal(initial_deck, shuffle_deck)\n",
    "        print('Success: shuffle_deck')\n",
    "        \n",
    "def main():\n",
    "    test = TestSolution()\n",
    "    deck = Deck()\n",
    "    test.test_solution(deck)\n",
    "    \n",
    "if __name__ == '__main__':\n",
    "    main()"
   ]
  },
  {
   "cell_type": "code",
   "execution_count": 37,
   "metadata": {},
   "outputs": [
    {
     "name": "stdout",
     "output_type": "stream",
     "text": [
      "Success: shuffle_deck\n"
     ]
    }
   ],
   "source": [
    "%run -i shuffle_deck.py"
   ]
  },
  {
   "cell_type": "code",
   "execution_count": null,
   "metadata": {},
   "outputs": [],
   "source": []
  }
 ],
 "metadata": {
  "kernelspec": {
   "display_name": "Python 3",
   "language": "python",
   "name": "python3"
  },
  "language_info": {
   "codemirror_mode": {
    "name": "ipython",
    "version": 3
   },
   "file_extension": ".py",
   "mimetype": "text/x-python",
   "name": "python",
   "nbconvert_exporter": "python",
   "pygments_lexer": "ipython3",
   "version": "3.5.6"
  }
 },
 "nbformat": 4,
 "nbformat_minor": 2
}
