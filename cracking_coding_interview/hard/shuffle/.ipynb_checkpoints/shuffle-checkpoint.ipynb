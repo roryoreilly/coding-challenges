{
 "cells": [
  {
   "cell_type": "markdown",
   "metadata": {},
   "source": [
    "# Example Notebook\n",
    "\n",
    "## Problem\n",
    "Write a method to shuffle a deck of cards. It must be a perfect shuffle-in other words, each\n",
    "of the 52! permutations of the deck has to be equally likely. Assume that you are given a random\n",
    "number generator which is perfect. "
   ]
  },
  {
   "cell_type": "markdown",
   "metadata": {},
   "source": [
    "## Questions asked and constraints\n",
    "- What am I given?\n",
    "    - A list, index1, index2\n",
    "- Will I be given different indices?\n",
    "    - Yes\n",
    "- Will the indices be in the length of the list?\n",
    "    - Yes"
   ]
  },
  {
   "cell_type": "markdown",
   "metadata": {},
   "source": [
    "## Algorithm 1\n",
    "Describe the algorithm\n",
    "\n",
    "### Complexity:\n",
    "    Time: \n",
    "    Space: \n",
    "\n",
    "### Code"
   ]
  },
  {
   "cell_type": "code",
   "execution_count": 2,
   "metadata": {},
   "outputs": [],
   "source": [
    "import random\n",
    "\n",
    "class Solution(object):\n",
    "    def shuffle(self, input_list, index1, index2):\n",
    "        ...\n",
    "        pass"
   ]
  },
  {
   "cell_type": "markdown",
   "metadata": {},
   "source": [
    "## Unit Tests"
   ]
  },
  {
   "cell_type": "code",
   "execution_count": 2,
   "metadata": {},
   "outputs": [
    {
     "name": "stdout",
     "output_type": "stream",
     "text": [
      "Writing number_swapper.py\n"
     ]
    }
   ],
   "source": [
    "%%writefile example_notebook.py\n",
    "from nose.tools import assert_equal\n",
    "\n",
    "class TestSolution(object):\n",
    "    def test_solution(self, func):\n",
    "        assert_equal(func(None), False)\n",
    "        print('Success: example_notebook')\n",
    "        \n",
    "def main():\n",
    "    test = TestSolution()\n",
    "    solution = Solution()\n",
    "    test.test_solution(solution.solution)\n",
    "    \n",
    "if __name__ == '__main__':\n",
    "    main()"
   ]
  },
  {
   "cell_type": "code",
   "execution_count": 3,
   "metadata": {},
   "outputs": [
    {
     "name": "stdout",
     "output_type": "stream",
     "text": [
      "Success: number_swapper\n"
     ]
    }
   ],
   "source": [
    "%run -i example_notebook.py"
   ]
  },
  {
   "cell_type": "code",
   "execution_count": null,
   "metadata": {},
   "outputs": [],
   "source": []
  }
 ],
 "metadata": {
  "kernelspec": {
   "display_name": "Python 3",
   "language": "python",
   "name": "python3"
  },
  "language_info": {
   "codemirror_mode": {
    "name": "ipython",
    "version": 3
   },
   "file_extension": ".py",
   "mimetype": "text/x-python",
   "name": "python",
   "nbconvert_exporter": "python",
   "pygments_lexer": "ipython3",
   "version": "3.5.6"
  }
 },
 "nbformat": 4,
 "nbformat_minor": 2
}
