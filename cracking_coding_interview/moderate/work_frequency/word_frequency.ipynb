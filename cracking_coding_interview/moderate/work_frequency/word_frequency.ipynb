{
 "cells": [
  {
   "cell_type": "markdown",
   "metadata": {},
   "source": [
    "# Word Frequency\n",
    "\n",
    "## Problem\n",
    "    Design a method to find the frequency of occurrences of any given word in a book. What if we were running this algorithm multiple times? "
   ]
  },
  {
   "cell_type": "markdown",
   "metadata": {},
   "source": [
    "## Questions asked and constraints\n",
    "- Do I need to care about capitization?\n",
    "    - No\n",
    "- How big will the book be?\n",
    "    - "
   ]
  },
  {
   "cell_type": "markdown",
   "metadata": {},
   "source": [
    "## Algorithm 1\n",
    "Create a dict with the count of all words inside a book\n",
    "\n",
    "On request of size of word. Call method which checks this dict\n",
    "\n",
    "### Complexity:\n",
    "    Time: first creation O(book_size), thereafter, O(1)\n",
    "    Space: O(word_count)\n",
    "\n",
    "### Code"
   ]
  },
  {
   "cell_type": "code",
   "execution_count": 14,
   "metadata": {},
   "outputs": [],
   "source": [
    "class Solution:\n",
    "    def __init__(self, book):\n",
    "        self.frequencies = self._create_frequencies_dict(book)\n",
    "        \n",
    "    def _create_frequencies_dict(self, book):\n",
    "        word_count = dict()\n",
    "        for word in book.split():\n",
    "            word_count[word] = word_count.get(word, 0) + 1\n",
    "        return word_count\n",
    "    \n",
    "    def get_count(self, word):\n",
    "        return self.frequencies.get(word, 0)"
   ]
  },
  {
   "cell_type": "markdown",
   "metadata": {},
   "source": [
    "## Unit Tests"
   ]
  },
  {
   "cell_type": "code",
   "execution_count": 15,
   "metadata": {},
   "outputs": [
    {
     "name": "stdout",
     "output_type": "stream",
     "text": [
      "Overwriting word_frequency.py\n"
     ]
    }
   ],
   "source": [
    "%%writefile word_frequency.py\n",
    "from nose.tools import assert_equal\n",
    "\n",
    "class TestSolution(object):\n",
    "    def test_solution(self, func):\n",
    "        assert_equal(func(\"world\"), 2)\n",
    "        assert_equal(func(\"non\"), 0)\n",
    "        assert_equal(func(\"hello\"), 1)\n",
    "        print('Success: word_frequency')\n",
    "        \n",
    "def main():\n",
    "    test = TestSolution()\n",
    "    solution = Solution(\"hello world how are you world\")\n",
    "    test.test_solution(solution.get_count)\n",
    "    \n",
    "if __name__ == '__main__':\n",
    "    main()"
   ]
  },
  {
   "cell_type": "code",
   "execution_count": 16,
   "metadata": {},
   "outputs": [
    {
     "name": "stdout",
     "output_type": "stream",
     "text": [
      "Success: word_frequency\n"
     ]
    }
   ],
   "source": [
    "%run -i word_frequency.py"
   ]
  },
  {
   "cell_type": "code",
   "execution_count": null,
   "metadata": {},
   "outputs": [],
   "source": []
  }
 ],
 "metadata": {
  "kernelspec": {
   "display_name": "Python 3",
   "language": "python",
   "name": "python3"
  },
  "language_info": {
   "codemirror_mode": {
    "name": "ipython",
    "version": 3
   },
   "file_extension": ".py",
   "mimetype": "text/x-python",
   "name": "python",
   "nbconvert_exporter": "python",
   "pygments_lexer": "ipython3",
   "version": "3.5.6"
  }
 },
 "nbformat": 4,
 "nbformat_minor": 2
}
