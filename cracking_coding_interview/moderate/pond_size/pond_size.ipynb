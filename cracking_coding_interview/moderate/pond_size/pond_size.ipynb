{
 "cells": [
  {
   "cell_type": "markdown",
   "metadata": {},
   "source": [
    "# Pond Size\n",
    "\n",
    "## Problem\n",
    "You have an integer matrix representing a plot of land, where the value at that location represents the height above sea level. A value of zero indicates water. A pond is a region of water connected vertically, horizontally, or diagonally. The size of the pond is the total number of connected water cells. Write a method to compute the sizes of all ponds in the matrix.\n",
    "\n",
    "EXAMPLE\n",
    "\n",
    "Input:\n",
    "\n",
    "    0 2 1 0\n",
    "    0 1 0 1\n",
    "    1 1 0 1\n",
    "    0 1 0 1\n",
    "Output: \n",
    "\n",
    "    2, 4, 1 (in any order) "
   ]
  },
  {
   "cell_type": "markdown",
   "metadata": {},
   "source": [
    "## Questions asked and constraints\n",
    "- "
   ]
  },
  {
   "cell_type": "markdown",
   "metadata": {},
   "source": [
    "## Algorithm 1\n",
    "Have a method which finds the size of each pond and the coordinates of the pond\n",
    "\n",
    "This will take the region and starting location and go through each point north, south, east and, west of the given point finding the size of the pond. This sounds like it is a recursive solution, but I want to do so iteratively \n",
    "\n",
    "We iterate the entire for each time we \n",
    "\n",
    "### Complexity:\n",
    "    Time: \n",
    "    Space: \n",
    "\n",
    "### Code"
   ]
  },
  {
   "cell_type": "code",
   "execution_count": 43,
   "metadata": {},
   "outputs": [],
   "source": [
    "class Solution(object):\n",
    "    def pond_sizes(self, regions):\n",
    "        if len(regions) == 0:\n",
    "            return []\n",
    "    \n",
    "        regions = self._fill_frame(regions)\n",
    "        sizes = []\n",
    "        \n",
    "        for i in range(1, len(regions)-1):\n",
    "            for j in range(1, len(regions[0])-1):\n",
    "                if regions[i][j] == 0:\n",
    "                    regions, size = self._find_pond(regions, i, j)\n",
    "                    sizes.append(size)\n",
    "        return sizes\n",
    "                    \n",
    "    def _fill_frame(self, regions):\n",
    "        new_regions = []\n",
    "        for i in range(len(regions)+2):\n",
    "            inner = []\n",
    "            for j in range(len(regions)+2):\n",
    "                if i == 0 or j == 0 or i == len(regions)+1 or j == len(regions)+1:\n",
    "                    inner.append(-1)\n",
    "                else:\n",
    "                    inner.append(regions[i-1][j-1])\n",
    "                    \n",
    "            new_regions.append(inner)\n",
    "        return new_regions\n",
    "        \n",
    "    def _find_pond(self, regions, i, j):\n",
    "        stack = [[i, j]]\n",
    "        size = 0\n",
    "        \n",
    "        while len(stack) > 0:\n",
    "            i, j = stack.pop()\n",
    "            regions[i][j] = -1\n",
    "            size += 1\n",
    "            for p in [i-1, i, i+1]:\n",
    "                for q in [j-1, j, j+1]:\n",
    "                    if regions[p][q] == 0:\n",
    "                        stack.append([p, q])\n",
    "        return regions, size"
   ]
  },
  {
   "cell_type": "markdown",
   "metadata": {},
   "source": [
    "## Unit Tests"
   ]
  },
  {
   "cell_type": "code",
   "execution_count": 44,
   "metadata": {},
   "outputs": [
    {
     "name": "stdout",
     "output_type": "stream",
     "text": [
      "Overwriting pond_size.py\n"
     ]
    }
   ],
   "source": [
    "%%writefile pond_size.py\n",
    "from nose.tools import assert_list_equal\n",
    "\n",
    "class TestSolution(object):\n",
    "    def test_solution(self, func):\n",
    "        assert_list_equal(func([[0,2,1,0], \n",
    "                                [0,1,0,1], \n",
    "                                [1,1,0,1], \n",
    "                                [0,1,0,1]]), [2, 4, 1])\n",
    "        print('Success: pond_size')\n",
    "        \n",
    "def main():\n",
    "    test = TestSolution()\n",
    "    solution = Solution()\n",
    "    test.test_solution(solution.pond_sizes)\n",
    "    \n",
    "if __name__ == '__main__':\n",
    "    main()"
   ]
  },
  {
   "cell_type": "code",
   "execution_count": 45,
   "metadata": {},
   "outputs": [
    {
     "name": "stdout",
     "output_type": "stream",
     "text": [
      "Success: pond_size\n"
     ]
    }
   ],
   "source": [
    "%run -i pond_size.py"
   ]
  },
  {
   "cell_type": "code",
   "execution_count": null,
   "metadata": {},
   "outputs": [],
   "source": []
  }
 ],
 "metadata": {
  "kernelspec": {
   "display_name": "Python 3",
   "language": "python",
   "name": "python3"
  },
  "language_info": {
   "codemirror_mode": {
    "name": "ipython",
    "version": 3
   },
   "file_extension": ".py",
   "mimetype": "text/x-python",
   "name": "python",
   "nbconvert_exporter": "python",
   "pygments_lexer": "ipython3",
   "version": "3.5.6"
  }
 },
 "nbformat": 4,
 "nbformat_minor": 2
}
