{
 "cells": [
  {
   "cell_type": "markdown",
   "metadata": {},
   "source": [
    "# Example Notebook\n",
    "\n",
    "## Problem\n",
    "Description of problem "
   ]
  },
  {
   "cell_type": "markdown",
   "metadata": {},
   "source": [
    "## Questions asked and constraints\n",
    "- What am I given?\n",
    "    - A list, index1, index2\n",
    "- Will I be given different indices?\n",
    "    - Yes\n",
    "- Will the indices be in the length of the list?\n",
    "    - Yes"
   ]
  },
  {
   "cell_type": "markdown",
   "metadata": {},
   "source": [
    "## Algorithm 1\n",
    "Describe the algorithm\n",
    "\n",
    "### Complexity:\n",
    "    Time: O(n)\n",
    "    Space: O(n)\n",
    "\n",
    "### Code"
   ]
  },
  {
   "cell_type": "code",
   "execution_count": 7,
   "metadata": {},
   "outputs": [],
   "source": [
    "class Solution(object):\n",
    "    def solution(self, boards, longer, shorter):\n",
    "        lengths = []\n",
    "        for i in range(boards*2 - 1):\n",
    "            length = (longer*i) + (shorter * (boards-i))\n",
    "            lengths.append(length)\n",
    "        return lengths\n",
    "    \n",
    "    def "
   ]
  },
  {
   "cell_type": "markdown",
   "metadata": {},
   "source": [
    "## Unit Tests"
   ]
  },
  {
   "cell_type": "code",
   "execution_count": 8,
   "metadata": {},
   "outputs": [
    {
     "name": "stdout",
     "output_type": "stream",
     "text": [
      "Overwriting example_notebook.py\n"
     ]
    }
   ],
   "source": [
    "%%writefile example_notebook.py\n",
    "from nose.tools import assert_equal\n",
    "\n",
    "class TestSolution(object):\n",
    "    def test_solution(self, func):\n",
    "        assert_equal(func(2, 5, 3), [10, 8, 6])\n",
    "        assert_equal(func(3, 5, 3), [15, 13, 11, 9])\n",
    "        assert_equal(func(4, 5, 3), [20, 18, 16, 14, 12])\n",
    "        print('Success: example_notebook')\n",
    "        \n",
    "def main():\n",
    "    test = TestSolution()\n",
    "    solution = Solution()\n",
    "    test.test_solution(solution.solution)\n",
    "    \n",
    "if __name__ == '__main__':\n",
    "    main()"
   ]
  },
  {
   "cell_type": "code",
   "execution_count": 9,
   "metadata": {},
   "outputs": [
    {
     "name": "stdout",
     "output_type": "stream",
     "text": [
      "Success: example_notebook\n"
     ]
    }
   ],
   "source": [
    "%run -i example_notebook.py"
   ]
  },
  {
   "cell_type": "code",
   "execution_count": null,
   "metadata": {},
   "outputs": [],
   "source": []
  }
 ],
 "metadata": {
  "kernelspec": {
   "display_name": "Python 3",
   "language": "python",
   "name": "python3"
  },
  "language_info": {
   "codemirror_mode": {
    "name": "ipython",
    "version": 3
   },
   "file_extension": ".py",
   "mimetype": "text/x-python",
   "name": "python",
   "nbconvert_exporter": "python",
   "pygments_lexer": "ipython3",
   "version": "3.5.6"
  }
 },
 "nbformat": 4,
 "nbformat_minor": 2
}
