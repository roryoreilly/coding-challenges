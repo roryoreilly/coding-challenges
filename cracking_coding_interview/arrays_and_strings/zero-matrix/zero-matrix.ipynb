{
 "cells": [
  {
   "cell_type": "markdown",
   "metadata": {},
   "source": [
    "# Zero Matrix\n",
    "\n",
    "## Problem\n",
    "Write an algorithm such that if an element in an MxN matrix is 0, its entire row and\n",
    "column are set to 0.\n",
    "\n"
   ]
  },
  {
   "cell_type": "markdown",
   "metadata": {},
   "source": [
    "## Questions asked and constraints\n",
    "- Will I need to make this work in more than 2d in the future\n",
    "    - Keep the idea in mind"
   ]
  },
  {
   "cell_type": "markdown",
   "metadata": {},
   "source": [
    "## Algorithm 1\n",
    "Go through the matrix, keeping a list of the rows and columns which have zero\n",
    "Use splicing to set these rows and columns to zero\n",
    "\n",
    "### Complexity:\n",
    "Time: O(nm)\n",
    "Space: O(n+m)\n",
    "\n",
    "### Code"
   ]
  },
  {
   "cell_type": "code",
   "execution_count": 33,
   "metadata": {},
   "outputs": [],
   "source": [
    "import pandas as pd\n",
    "\n",
    "class Solution(object):\n",
    "    \n",
    "    def zero_matrix(self, matrix):\n",
    "        rows, columns = self.find_aisles(matrix)\n",
    "        \n",
    "        for i in rows:\n",
    "            for j in range(len(matrix[0])):\n",
    "                matrix[i][j] = 0\n",
    "                \n",
    "        for j in columns:\n",
    "            for i in range(len(matrix)):\n",
    "                matrix[i][j] = 0\n",
    "                \n",
    "        return matrix\n",
    "    \n",
    "    def find_aisles(self, matrix):\n",
    "        zero_rows = set()\n",
    "        zero_columns = set()\n",
    "        for row in range(len(matrix)):\n",
    "            for column in range(len(matrix[0])):\n",
    "                if matrix[row][column] == 0:\n",
    "                    zero_rows.add(row)\n",
    "                    zero_columns.add(column)\n",
    "        return zero_rows, zero_columns\n",
    "    \n",
    "    def zero_matrix_df(self, matrix):\n",
    "        matrix_df = pd.DataFrame(matrix)\n",
    "        rows = matrix_df.eq(0).any(1)\n",
    "        columns = matrix_df.eq(0).any(0)\n",
    "        \n",
    "        matrix_df.loc[rows] = 0\n",
    "        matrix_df.loc[:, columns] = 0\n",
    "                \n",
    "        return matrix_df.values.tolist()\n",
    "                "
   ]
  },
  {
   "cell_type": "markdown",
   "metadata": {},
   "source": [
    "## Unit Tests"
   ]
  },
  {
   "cell_type": "code",
   "execution_count": 34,
   "metadata": {},
   "outputs": [
    {
     "name": "stdout",
     "output_type": "stream",
     "text": [
      "Overwriting test_zero_matrix.py\n"
     ]
    }
   ],
   "source": [
    "%%writefile test_zero_matrix.py\n",
    "from nose.tools import assert_equal\n",
    "\n",
    "class TestSolution(object):\n",
    "    def test_solution(self, func):\n",
    "        assert_equal(func([[0,1],[1,2],[2,1]]), [[0,0],[0,2],[0,1]])\n",
    "        assert_equal(func([[1,1],[1,2],[2,1]]), [[1,1],[1,2],[2,1]])\n",
    "        assert_equal(func([[0,1],[1,2],[0,1]]), [[0,0],[0,2],[0,0]])\n",
    "        print('Success: test_zero_matrix')\n",
    "        \n",
    "def main():\n",
    "    test = TestSolution()\n",
    "    solution = Solution()\n",
    "    test.test_solution(solution.zero_matrix)\n",
    "    test.test_solution(solution.zero_matrix_df)\n",
    "    \n",
    "if __name__ == '__main__':\n",
    "    main()"
   ]
  },
  {
   "cell_type": "code",
   "execution_count": 35,
   "metadata": {},
   "outputs": [
    {
     "name": "stdout",
     "output_type": "stream",
     "text": [
      "Success: test_zero_matrix\n",
      "Success: test_zero_matrix\n"
     ]
    }
   ],
   "source": [
    "%run -i test_zero_matrix.py"
   ]
  },
  {
   "cell_type": "code",
   "execution_count": null,
   "metadata": {},
   "outputs": [],
   "source": []
  }
 ],
 "metadata": {
  "kernelspec": {
   "display_name": "Python 3",
   "language": "python",
   "name": "python3"
  },
  "language_info": {
   "codemirror_mode": {
    "name": "ipython",
    "version": 3
   },
   "file_extension": ".py",
   "mimetype": "text/x-python",
   "name": "python",
   "nbconvert_exporter": "python",
   "pygments_lexer": "ipython3",
   "version": "3.5.6"
  }
 },
 "nbformat": 4,
 "nbformat_minor": 2
}
