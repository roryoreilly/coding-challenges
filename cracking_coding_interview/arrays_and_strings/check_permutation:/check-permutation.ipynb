{
 "cells": [
  {
   "cell_type": "markdown",
   "metadata": {},
   "source": [
    "# Check Permutation\n",
    "\n",
    "## Problem\n",
    "Given two strings, write a method to decide if one is a permutation of the\n",
    "other. \n"
   ]
  },
  {
   "cell_type": "markdown",
   "metadata": {},
   "source": [
    "## Questions asked and constraints\n",
    "- Optimisation question. Will this be used a repeated number of times? How often will we get a true result.\n",
    "    - Most solutions will have a true result\n",
    "- Is the check case sensitive?\n",
    "    - Yes\n",
    "- Is white space significant?\n",
    "    - Yes"
   ]
  },
  {
   "cell_type": "markdown",
   "metadata": {},
   "source": [
    "## Algorithm 1\n",
    "Use a dictonary for each of the values in the first string.\n",
    "Check that the values in the second array are in the hash table.\n",
    "\n",
    "The hashtable will use a counter of values to take into account duplicate\n",
    "\n",
    "### Used documents to create solution\n",
    "How to split a string into each character\n",
    "def split(word): \n",
    "    return [char for char in word]\n",
    "\n",
    "\n",
    "### Complexity:\n",
    "    Time: O(N)\n",
    "    Space: Additional O(N)\n",
    "\n",
    "### Code"
   ]
  },
  {
   "cell_type": "code",
   "execution_count": 12,
   "metadata": {},
   "outputs": [],
   "source": [
    "class Solution(object):\n",
    "    def check_permutation(self, first, second):\n",
    "        if not(isinstance(first, str) and isinstance(second, str)):\n",
    "            return False\n",
    "        all_values = dict()\n",
    "        for x in first:\n",
    "            all_values[x] = all_values.get(x, 0) + 1\n",
    "            \n",
    "        for y in second:\n",
    "            all_values[y] = all_values.get(y, 0) - 1\n",
    "            if all_values[y] < 0:\n",
    "                return False\n",
    "            if all_values[y] == 0:\n",
    "                all_values.pop(y)\n",
    "                \n",
    "        if len(all_values) > 0:\n",
    "            return False\n",
    "        return True"
   ]
  },
  {
   "cell_type": "markdown",
   "metadata": {},
   "source": [
    "## Unit Tests"
   ]
  },
  {
   "cell_type": "code",
   "execution_count": 13,
   "metadata": {},
   "outputs": [
    {
     "name": "stdout",
     "output_type": "stream",
     "text": [
      "Overwriting test_check_permutation.py\n"
     ]
    }
   ],
   "source": [
    "%%writefile test_check_permutation.py\n",
    "from nose.tools import assert_equal\n",
    "\n",
    "class TestSolution:\n",
    "    def test_solution(self, func):\n",
    "        assert_equal(func(None, None), False)\n",
    "        assert_equal(func('abc', 'cab'), True)\n",
    "        assert_equal(func('abac', 'cab'), False)\n",
    "        assert_equal(func('ab', 'cab'), False)\n",
    "        assert_equal(func('abac', 'caba'), True)\n",
    "        print(\"Successful: check_permutations\")\n",
    "        \n",
    "def main():\n",
    "    test = TestSolution()\n",
    "    solution = Solution()\n",
    "    test.test_solution(solution.check_permutation)\n",
    "    \n",
    "if __name__ == '__main__':\n",
    "    main()"
   ]
  },
  {
   "cell_type": "code",
   "execution_count": 14,
   "metadata": {},
   "outputs": [
    {
     "name": "stdout",
     "output_type": "stream",
     "text": [
      "Successful: check_permutations\n"
     ]
    }
   ],
   "source": [
    "%run -i test_check_permutation.py"
   ]
  },
  {
   "cell_type": "code",
   "execution_count": null,
   "metadata": {},
   "outputs": [],
   "source": []
  }
 ],
 "metadata": {
  "kernelspec": {
   "display_name": "Python 3",
   "language": "python",
   "name": "python3"
  },
  "language_info": {
   "codemirror_mode": {
    "name": "ipython",
    "version": 3
   },
   "file_extension": ".py",
   "mimetype": "text/x-python",
   "name": "python",
   "nbconvert_exporter": "python",
   "pygments_lexer": "ipython3",
   "version": "3.5.6"
  }
 },
 "nbformat": 4,
 "nbformat_minor": 2
}
