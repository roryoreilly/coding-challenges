{
 "cells": [
  {
   "cell_type": "markdown",
   "metadata": {},
   "source": [
    "# String Rotation\n",
    "\n",
    "## Problem\n",
    "\n",
    "Given two strings, sl and s2, write code to check if s2 is a rotation of sl (e.g., \"waterbottle\" is a rotation of\"erbottlewat\").\n",
    "\n"
   ]
  },
  {
   "cell_type": "markdown",
   "metadata": {},
   "source": [
    "## Questions asked and constraints\n",
    "- Do I need to leave the objects as they are\n",
    "    - Yes"
   ]
  },
  {
   "cell_type": "markdown",
   "metadata": {},
   "source": [
    "## Algorithm 1\n",
    "Check weither each array equals each other.\n",
    "If they do not equal rotate the first array by one character and repeat\n",
    "One full cycle through without a solution means they are not rotations of each other\n",
    "\n",
    "### Complexity:\n",
    "Time: O(n^2)\n",
    "Space: Additional O(n)\n",
    "\n",
    "### Code"
   ]
  },
  {
   "cell_type": "code",
   "execution_count": 22,
   "metadata": {},
   "outputs": [],
   "source": [
    "class Solution(object):\n",
    "    def is_substring(self, first, second):\n",
    "        if not (isinstance(first, str) and isinstance(second, str)):\n",
    "            return False\n",
    "        if len(first) != len(second):\n",
    "            return False\n",
    "        \n",
    "        for i in range(len(first)):\n",
    "            if first == second:\n",
    "                return True\n",
    "            first = self.rotate(first)\n",
    "        return False\n",
    "    \n",
    "    def rotate(self, string):\n",
    "        return string[1:] + string[0]\n",
    "    \n",
    "    # original version of rotate before lookup of python hints\n",
    "    def rotate_old(self, string):\n",
    "        string_as_list = [i for i in string]\n",
    "        string_as_list = string_as_list[1:] + [string_as_list[0]]\n",
    "        return \"\".join(string_as_list)"
   ]
  },
  {
   "cell_type": "markdown",
   "metadata": {},
   "source": [
    "## Unit Tests"
   ]
  },
  {
   "cell_type": "code",
   "execution_count": 23,
   "metadata": {},
   "outputs": [
    {
     "name": "stdout",
     "output_type": "stream",
     "text": [
      "Overwriting test_string_rotation.py\n"
     ]
    }
   ],
   "source": [
    "%%writefile test_string_rotation.py\n",
    "from nose.tools import assert_equal\n",
    "\n",
    "class TestSolution(object):\n",
    "    def test_solution(self, func):\n",
    "        assert_equal(func(None, None), False)\n",
    "        assert_equal(func('waterbottle', 'erbottlewat'), True)\n",
    "        assert_equal(func('a', 'a'), True)\n",
    "        assert_equal(func('a', 'ab'), False)\n",
    "        assert_equal(func('waterbottle', 'terbottlwae'), False)\n",
    "        print('Success: test_string_rotation')\n",
    "        \n",
    "    def test_rotation(self, func):\n",
    "        assert_equal(func(\"hello\"), \"elloh\")\n",
    "        print('Success: test_rotate_a_string')\n",
    "        \n",
    "def main():\n",
    "    test = TestSolution()\n",
    "    solution = Solution()\n",
    "    test.test_rotation(solution.rotate)\n",
    "    test.test_solution(solution.is_substring)\n",
    "    \n",
    "if __name__ == '__main__':\n",
    "    main()"
   ]
  },
  {
   "cell_type": "code",
   "execution_count": 24,
   "metadata": {},
   "outputs": [
    {
     "name": "stdout",
     "output_type": "stream",
     "text": [
      "Success: test_rotate_a_string\n",
      "Success: test_string_rotation\n"
     ]
    }
   ],
   "source": [
    "%run -i test_string_rotation.py"
   ]
  },
  {
   "cell_type": "code",
   "execution_count": null,
   "metadata": {},
   "outputs": [],
   "source": []
  },
  {
   "cell_type": "code",
   "execution_count": null,
   "metadata": {},
   "outputs": [],
   "source": []
  }
 ],
 "metadata": {
  "kernelspec": {
   "display_name": "Python 3",
   "language": "python",
   "name": "python3"
  },
  "language_info": {
   "codemirror_mode": {
    "name": "ipython",
    "version": 3
   },
   "file_extension": ".py",
   "mimetype": "text/x-python",
   "name": "python",
   "nbconvert_exporter": "python",
   "pygments_lexer": "ipython3",
   "version": "3.5.6"
  }
 },
 "nbformat": 4,
 "nbformat_minor": 2
}
