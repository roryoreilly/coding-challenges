{
 "cells": [
  {
   "cell_type": "markdown",
   "metadata": {},
   "source": [
    "# Sales Rank\n",
    "\n",
    "## Problem\n",
    "A large eCommerce company wishes to list the best-selling products, overall and by category. For example, one product might be the #1056th best-selling product overall but the #13th best-selling product under \"Sports Equipment\" and the #24th best-selling product under \"Safety.\" Describe how you would design this system."
   ]
  },
  {
   "cell_type": "markdown",
   "metadata": {},
   "source": [
    "## Questions asked and constraints\n",
    "- eCommerce company? So this is showing the lists on their websites?\n",
    "    - Yes\n",
    "- Do we need this data to be realtime synced?\n",
    "    - No, It can be refreshed but it would need to refresh at come points\n",
    "- How do we store the sales entries?\n",
    "    - In a SQL Database\n"
   ]
  },
  {
   "cell_type": "markdown",
   "metadata": {},
   "source": [
    "## Design\n",
    "My initial thought is to have a process that runs once a day, during the least active time of day - which will be likely at night\n",
    "\n",
    "Let's take a look at the SQL heavy approach:\n",
    "We create an index that stores the count of entries of the product id after they had been entered into the database.\n",
    "Even thinking about putting in a new table just for this, however, that will probably been over-engineering the problem. \n",
    "Depending on the amount of categories, the products info table could be hot-encoded to decide weither they are part of a category.\n",
    "\n",
    "In those cases you could do a select count(*), product_name; from sales; left join products p on product_id where p.product_tag like '%TAG%' group by product_name\n",
    "\n",
    "You could keep that cached, so you only have to run it once a day - speeding up the rendering of the webpage\n",
    "\n",
    "Have a process, that we first calculate the counts of sales and store it somewhere. You can keep that sorted as you store it. Then run a small program that will repopulate it with todays sales. In that will get the data of the stored sales, insert them into a hashtable. With the new sales today with update the records. Then we recreate the sorted table for all best sellers.  "
   ]
  },
  {
   "cell_type": "code",
   "execution_count": null,
   "metadata": {},
   "outputs": [],
   "source": []
  }
 ],
 "metadata": {
  "kernelspec": {
   "display_name": "Python 3",
   "language": "python",
   "name": "python3"
  },
  "language_info": {
   "codemirror_mode": {
    "name": "ipython",
    "version": 3
   },
   "file_extension": ".py",
   "mimetype": "text/x-python",
   "name": "python",
   "nbconvert_exporter": "python",
   "pygments_lexer": "ipython3",
   "version": "3.5.6"
  }
 },
 "nbformat": 4,
 "nbformat_minor": 2
}
