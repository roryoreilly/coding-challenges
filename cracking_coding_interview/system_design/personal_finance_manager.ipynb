{
 "cells": [
  {
   "cell_type": "markdown",
   "metadata": {},
   "source": [
    "# Personal Financial Manager\n",
    "\n",
    "## Problem\n",
    "Explain how you would design a personal financial manager (like Mint.com). This system would connect to your bank accounts, analyze your spending habits, and make recommendations."
   ]
  },
  {
   "cell_type": "markdown",
   "metadata": {},
   "source": [
    "## Questions asked and constraints\n"
   ]
  },
  {
   "cell_type": "markdown",
   "metadata": {},
   "source": [
    "## Design\n",
    "This is something that has been pushed more and more in the fintech area. \n",
    "\n",
    "The most important thing is that I don't fail in how the data is handles. Allowing transactions details to be lost is quite bad.\n",
    "\n",
    "I'd use something like open banking to connect to the different banks transactions details. And store these hashed in our database. \n",
    "\n",
    "Going into the finance manager part:\n",
    "Part of me is looking at this as time series data. So you could use a RNN to do some analyse on this, however, Google showed that you can do a CNN on it which performs better. This model created could show future projected spending. It should also be able to take into account the paycheques so that it will top up a large amount each month.\n",
    "\n",
    "Depending on how we've features this we could do some 'gameification' on it - by getting people to organise transactional data. Overtime we should be able to model something that can organise it well. With people  havein ght option to change items for False Positives.\n",
    "\n",
    "This organised categorical data would be useful as we could get average for categories. So if someone is overspending on resuturants, compared to grocery type food. That would be a type of recommendation to make.\n",
    "An increase in taxi/uber/lyft comapared to public transport.\n",
    "\n",
    "If they have a savings goal over a few months we could treat this as an expense and continue as is.\n"
   ]
  },
  {
   "cell_type": "markdown",
   "metadata": {},
   "source": [
    "## Reanalyse\n",
    "I need to think about the overall system more.\n",
    "I went too into focus\n",
    "But want to bring in points of how we decide to pull in the data, when to pull it in, how we notifiy the user, how\n",
    "\n",
    "I need to do some pros and cons of the above. An important thing to bring up always is how this scales, what is the computing cost and so on\n",
    "\n",
    "Work on the path:\n",
    "1. Scope\n",
    "2. Make assumptions\n",
    "3. Draw major components\n",
    "4. Identify the key issues"
   ]
  },
  {
   "cell_type": "code",
   "execution_count": null,
   "metadata": {},
   "outputs": [],
   "source": []
  }
 ],
 "metadata": {
  "kernelspec": {
   "display_name": "Python 3",
   "language": "python",
   "name": "python3"
  },
  "language_info": {
   "codemirror_mode": {
    "name": "ipython",
    "version": 3
   },
   "file_extension": ".py",
   "mimetype": "text/x-python",
   "name": "python",
   "nbconvert_exporter": "python",
   "pygments_lexer": "ipython3",
   "version": "3.5.6"
  }
 },
 "nbformat": 4,
 "nbformat_minor": 2
}
