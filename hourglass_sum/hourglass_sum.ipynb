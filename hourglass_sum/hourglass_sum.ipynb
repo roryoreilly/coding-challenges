{
 "cells": [
  {
   "cell_type": "markdown",
   "metadata": {},
   "source": [
    "# Example Workbook\n",
    "\n",
    "## Problem\n",
    "Given a 6x6 2D Array, arr:\n",
    "\n",
    "    1 1 1 0 0 0\n",
    "    0 1 0 0 0 0\n",
    "    1 1 1 0 0 0\n",
    "    0 0 0 0 0 0\n",
    "    0 0 0 0 0 0\n",
    "    0 0 0 0 0 0\n",
    "\n",
    "We define an hourglass in A to be a subset of values with indices falling in this pattern in arr's graphical representation:\n",
    "    \n",
    "    a b c\n",
    "      d\n",
    "    e f g\n",
    "\n",
    "There are 16 hourglasses in arr, and an hourglass sum is the sum of an hourglass' values. Calculate the hourglass sum for every hourglass in arr, then print the maximum hourglass sum."
   ]
  },
  {
   "cell_type": "markdown",
   "metadata": {},
   "source": [
    "## Questions asked and constraints\n",
    "- Can I assume the input is always correct and of large enough size\n",
    "    - Yes\n",
    "- Will the input be a n by n list\n",
    "    - It will be a n by n numpy array\n",
    "- Will you need to put this into a 3x3 array\n",
    "    - No, but do you think there is a more demensions"
   ]
  },
  {
   "cell_type": "markdown",
   "metadata": {},
   "source": [
    "## Algorithm 1\n",
    "Create a function that will find the sub of a subset. This input is 3x3\n",
    "Go through the full arr passing all subsets to the second function. Taking note of the max\n",
    "\n",
    "### Complexity:\n",
    "    Time: O(n)\n",
    "    Space: O(1)\n",
    "\n",
    "### Code"
   ]
  },
  {
   "cell_type": "code",
   "execution_count": 57,
   "metadata": {},
   "outputs": [],
   "source": [
    "class HourGlass(object):\n",
    "    def find_max(self, arr):\n",
    "        max_sum = -10000000000000\n",
    "        for i in range(arr.shape[0]-2):\n",
    "            for j in range(arr.shape[1]-2):\n",
    "                subset_sum = self.hour_glass_subset_sum(arr[i:i+3, j:j+3])\n",
    "                if max_sum < subset_sum:\n",
    "                    max_sum = subset_sum\n",
    "        return max_sum\n",
    "    \n",
    "    def hour_glass_subset_sum(self, arr):\n",
    "        return sum(sum(arr)) - arr[1, 0] - arr[1, 2]\n",
    "    "
   ]
  },
  {
   "cell_type": "markdown",
   "metadata": {},
   "source": [
    "## Unit Tests"
   ]
  },
  {
   "cell_type": "code",
   "execution_count": 58,
   "metadata": {},
   "outputs": [
    {
     "name": "stdout",
     "output_type": "stream",
     "text": [
      "Overwriting test_hourglass.py\n"
     ]
    }
   ],
   "source": [
    "%%writefile test_hourglass.py\n",
    "from nose.tools import assert_equal\n",
    "import numpy as np\n",
    "\n",
    "class TestHourGlass(object):\n",
    "    def test_find_max(self, func):\n",
    "        input_arr = \"1 1 1 0 0 0 0 1 0 0 0 0 1 1 1 0 0 0 0 0 2 4 4 0 0 0 0 2 0 0 0 0 1 2 4 0\"\n",
    "        arr = []\n",
    "        arr.append(list(map(int, input_arr.rstrip().split())))\n",
    "        arr = np.array(arr)\n",
    "        arr = arr.reshape((6, -1))\n",
    "        assert_equal(func(arr), 19)\n",
    "        print('Success: test_hourglass')\n",
    "        \n",
    "    def test_hour_glass_subset_sum(self, func):\n",
    "        input_arr = \"1 1 1 0 0 0 0 1 0\"\n",
    "        arr = []\n",
    "        arr.append(list(map(int, input_arr.rstrip().split())))\n",
    "        arr = np.array(arr)\n",
    "        arr = arr.reshape((3, -1))\n",
    "        assert_equal(func(arr), 4)\n",
    "        print('Success: test_hour_glass_subset_sum')\n",
    "        \n",
    "def main():\n",
    "    test = TestHourGlass()\n",
    "    hour_glass = HourGlass()\n",
    "    test.test_hour_glass_subset_sum(hour_glass.hour_glass_subset_sum)\n",
    "    test.test_find_max(hour_glass.find_max)\n",
    "    \n",
    "if __name__ == '__main__':\n",
    "    main()"
   ]
  },
  {
   "cell_type": "code",
   "execution_count": 59,
   "metadata": {},
   "outputs": [
    {
     "name": "stdout",
     "output_type": "stream",
     "text": [
      "Success: test_hour_glass_subset_sum\n",
      "Success: test_hourglass\n"
     ]
    }
   ],
   "source": [
    "%run -i test_hourglass.py"
   ]
  }
 ],
 "metadata": {
  "kernelspec": {
   "display_name": "Python 3",
   "language": "python",
   "name": "python3"
  },
  "language_info": {
   "codemirror_mode": {
    "name": "ipython",
    "version": 3
   },
   "file_extension": ".py",
   "mimetype": "text/x-python",
   "name": "python",
   "nbconvert_exporter": "python",
   "pygments_lexer": "ipython3",
   "version": "3.5.6"
  }
 },
 "nbformat": 4,
 "nbformat_minor": 2
}
