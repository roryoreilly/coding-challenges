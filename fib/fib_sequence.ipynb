{
 "cells": [
  {
   "cell_type": "markdown",
   "metadata": {},
   "source": [
    "# Fibonacci Sequence\n",
    "\n",
    "## Problem\n",
    "Implement a program that will produce the fibonacci value for n.\n",
    "Where \n",
    "    F0 = 1\n",
    "    F1 = 1\n",
    "    Fn = Fn-1 + Fn-2"
   ]
  },
  {
   "cell_type": "markdown",
   "metadata": {},
   "source": [
    "## Questions asked and constraints\n",
    "- What is the expected maxiumum number that n will be\n",
    "    - 100000\n",
    "- Do I need to account for any overflow values\n",
    "    - It depends on your programming language of choice\n",
    "- What to do for fales values?\n",
    "    - You can return 0"
   ]
  },
  {
   "cell_type": "markdown",
   "metadata": {},
   "source": [
    "## Algorithm 1\n",
    "As there will be a problem with using recursion I will make a iteritive solution\n",
    "\n",
    "### Complexity:\n",
    "Time: O(n)\n",
    "\n",
    "Space: Additional O(1)\n",
    "\n",
    "### Code"
   ]
  },
  {
   "cell_type": "code",
   "execution_count": 15,
   "metadata": {},
   "outputs": [],
   "source": [
    "class FibSequence(object):\n",
    "    def value_for_n(self, n):\n",
    "        if not isinstance(n, int) or n < 0:\n",
    "            return 0\n",
    "        if n < 2:\n",
    "            return 1\n",
    "        last_n = 1\n",
    "        two_last_n = 1\n",
    "        for i in range(0, n):\n",
    "            current_n = last_n + two_last_n\n",
    "            two_last_n = last_n\n",
    "            last_n = current_n\n",
    "        return current_n"
   ]
  },
  {
   "cell_type": "markdown",
   "metadata": {},
   "source": [
    "## Unit Tests"
   ]
  },
  {
   "cell_type": "code",
   "execution_count": 18,
   "metadata": {},
   "outputs": [
    {
     "name": "stdout",
     "output_type": "stream",
     "text": [
      "Overwriting test_fib_sequence.py\n"
     ]
    }
   ],
   "source": [
    "%%writefile test_fib_sequence.py\n",
    "from nose.tools import assert_equal, assert_greater\n",
    "\n",
    "class TestFibSequence(object):\n",
    "    def test_fib_sequence(self, func):\n",
    "        assert_equal(func(None), False)\n",
    "        assert_equal(func(0), 1)\n",
    "        assert_equal(func(1), 1)\n",
    "        assert_equal(func(5), 13)\n",
    "        assert_equal(func(-1), 0)\n",
    "        assert_greater(func(100001), 100000)\n",
    "        print('Success: test_fib_sequence')\n",
    "        \n",
    "def main():\n",
    "    test = TestFibSequence()\n",
    "    fib = FibSequence()\n",
    "    test.test_fib_sequence(fib.value_for_n)\n",
    "    \n",
    "if __name__ == '__main__':\n",
    "    main()"
   ]
  },
  {
   "cell_type": "code",
   "execution_count": 19,
   "metadata": {},
   "outputs": [
    {
     "name": "stdout",
     "output_type": "stream",
     "text": [
      "Success: test_fib_sequence\n"
     ]
    }
   ],
   "source": [
    "%run -i test_fib_sequence.py"
   ]
  },
  {
   "cell_type": "code",
   "execution_count": null,
   "metadata": {},
   "outputs": [],
   "source": []
  }
 ],
 "metadata": {
  "kernelspec": {
   "display_name": "Python 3",
   "language": "python",
   "name": "python3"
  },
  "language_info": {
   "codemirror_mode": {
    "name": "ipython",
    "version": 3
   },
   "file_extension": ".py",
   "mimetype": "text/x-python",
   "name": "python",
   "nbconvert_exporter": "python",
   "pygments_lexer": "ipython3",
   "version": "3.5.6"
  }
 },
 "nbformat": 4,
 "nbformat_minor": 2
}
