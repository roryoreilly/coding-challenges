{
 "cells": [
  {
   "cell_type": "markdown",
   "metadata": {},
   "source": [
    "# Notes"
   ]
  },
  {
   "cell_type": "markdown",
   "metadata": {},
   "source": [
    "## Time complexity of python operations\n",
    "https://wiki.python.org/moin/TimeComplexity"
   ]
  },
  {
   "cell_type": "markdown",
   "metadata": {},
   "source": [
    "## Notes on Cracking the code"
   ]
  },
  {
   "cell_type": "markdown",
   "metadata": {},
   "source": [
    "#### Important to have down\n",
    "- Data Structures             \n",
    "    - Linked Lists                \n",
    "    - Trees, Tries, & Graphs      \n",
    "    - Stacks & Queues             \n",
    "    - Heaps                       \n",
    "    - Vectors / Array lists       \n",
    "\n",
    "- Algorithms                \n",
    "    - Breadth-First Search      \n",
    "    - Depth-First Search        \n",
    "    - Binary Search             \n",
    "    - Merge Sort                \n",
    "    - Quick Sort                \n",
    "\n",
    "- Concepts\n",
    "    - Bit Manipulation\n",
    "    - Memory (Stack vs. Heap)\n",
    "    - Recursion\n",
    "    - Dynamic Programming\n",
    "    - Big O Time & Space\n",
    "    - Hash Tables "
   ]
  },
  {
   "cell_type": "markdown",
   "metadata": {},
   "source": [
    "#### Optimize techniques\n",
    "Look for BUD \n",
    "- Bottlenecks\n",
    "    - Where in your code is causing the biggest Big O slowdown\n",
    "- Unnecessary work\n",
    "- Duplicate work\n",
    "\n",
    "Do it yourself\n",
    "- Try to work out a solution on an example. Workm out what your algorithm was for that solution\n",
    "\n",
    "Simplify and Generalise\n",
    "- Make solution to your problem with basic data structures. Change around the data structure when you need to make the more solution\n",
    "\n",
    "Base Case and Build \n",
    "- Solve the problem for a base case (eg n=1) and build up from there.\n",
    "- Building more complex solution (eg n=3/4) from previous solutions\n",
    "- These tend to lead to recursive solutions\n",
    "\n",
    "Data Structure Brainstorm \n",
    "- Go through data structures to see what one can make a good solution\n",
    "\n"
   ]
  },
  {
   "cell_type": "code",
   "execution_count": null,
   "metadata": {},
   "outputs": [],
   "source": []
  }
 ],
 "metadata": {
  "kernelspec": {
   "display_name": "Python 3",
   "language": "python",
   "name": "python3"
  },
  "language_info": {
   "codemirror_mode": {
    "name": "ipython",
    "version": 3
   },
   "file_extension": ".py",
   "mimetype": "text/x-python",
   "name": "python",
   "nbconvert_exporter": "python",
   "pygments_lexer": "ipython3",
   "version": "3.5.6"
  }
 },
 "nbformat": 4,
 "nbformat_minor": 2
}
