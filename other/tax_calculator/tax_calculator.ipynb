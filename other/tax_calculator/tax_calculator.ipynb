{
 "cells": [
  {
   "cell_type": "markdown",
   "metadata": {},
   "source": [
    "# Tax Calculator\n",
    "\n",
    "## Problem\n",
    "Write a calculator which will calculate the amount of tax paid by a person.\n",
    "You will be given a list in the form [ [10000, .3],[20000, .2], [30000, .1], [None, .1]]. You don’t know in the beginning how many tax brackets are there. You have to test for all of them."
   ]
  },
  {
   "cell_type": "markdown",
   "metadata": {},
   "source": [
    "## Questions asked and constraints\n",
    "- Will the tax amount be in order\n",
    "    - Not Necessarily\n",
    "- Will there be a base value given\n",
    "    - Yes, however, can you make in such a way that if there is no base value then there is a 0% tax rate for the base rate\n"
   ]
  },
  {
   "cell_type": "markdown",
   "metadata": {},
   "source": [
    "## Algorithm 1\n",
    "Place the tax amounts into an array so that it is organised.\n",
    "\n",
    "Iterate through it the list of rates keeping track of the tax amount\n",
    "\n",
    "### Complexity:\n",
    "    Time: O(n)\n",
    "    Space: O(n)\n",
    "\n",
    "### Code"
   ]
  },
  {
   "cell_type": "code",
   "execution_count": 27,
   "metadata": {},
   "outputs": [],
   "source": [
    "class TaxCalculator(object):\n",
    "    def __init__(self, tax_rates):\n",
    "        self.tax_rates = self.__create_tax_rates(tax_rates)\n",
    "        self.tax_bounds = sorted(self.tax_rates.keys())\n",
    "        \n",
    "    def __create_tax_rates(self, tax_rates):\n",
    "        _tax_rates = dict()\n",
    "        _tax_rates[0] = 0\n",
    "        for rate in tax_rates:\n",
    "            if rate[0] is None:\n",
    "                _tax_rates[0] = rate[1]          \n",
    "            else:\n",
    "                _tax_rates[rate[0]] = rate[1]\n",
    "        return _tax_rates\n",
    "    \n",
    "    def add_tax_rate(self, tax_rate):\n",
    "        self.tax_rates[tax_rate[0]] = tax_rate[1]\n",
    "        self.tax_bounds = sorted(self.tax_rates.keys)\n",
    "    \n",
    "    def pop_tax_rate(self, tax_amount):\n",
    "        self.tax_rates.pop(tax_amount, None)\n",
    "        self.tax_bounds.remove(tax_amount)\n",
    "        \n",
    "    def calcuate(self, salary):\n",
    "        _tax = 0\n",
    "        for tax_index in range(len(self.tax_bounds)):\n",
    "            lowerbound = self.tax_bounds[tax_index]\n",
    "            if tax_index == len(self.tax_bounds)-1:\n",
    "                upperbound = salary\n",
    "            else:\n",
    "                upperbound = self.tax_bounds[tax_index+1]\n",
    "                \n",
    "            if salary <= upperbound:\n",
    "                tax_bracket_size = salary - lowerbound\n",
    "                _tax += tax_bracket_size * self.tax_rates[lowerbound]\n",
    "                break\n",
    "            else:\n",
    "                tax_bracket_size = upperbound - lowerbound\n",
    "                _tax += tax_bracket_size * self.tax_rates[lowerbound]\n",
    "            \n",
    "        return _tax"
   ]
  },
  {
   "cell_type": "markdown",
   "metadata": {},
   "source": [
    "## Unit Tests"
   ]
  },
  {
   "cell_type": "code",
   "execution_count": 28,
   "metadata": {},
   "outputs": [
    {
     "name": "stdout",
     "output_type": "stream",
     "text": [
      "Overwriting calculate_tax.py\n"
     ]
    }
   ],
   "source": [
    "%%writefile calculate_tax.py\n",
    "from nose.tools import assert_equal\n",
    "\n",
    "class TestSolution(object):\n",
    "    def test_solution(self, func):\n",
    "        assert_equal(func(5000), 0)\n",
    "        assert_equal(func(15000), 500)\n",
    "        assert_equal(func(25000), 2000)\n",
    "        assert_equal(func(40000), 6000)\n",
    "        print('Success: calculate_tax')\n",
    "        \n",
    "def main():\n",
    "    test = TestSolution()\n",
    "    tax_cal = TaxCalculator([[10000, .1],[20000, .2], [30000, .3], [None, 0]])\n",
    "    test.test_solution(tax_cal.calcuate)\n",
    "    \n",
    "if __name__ == '__main__':\n",
    "    main()"
   ]
  },
  {
   "cell_type": "code",
   "execution_count": 29,
   "metadata": {},
   "outputs": [
    {
     "name": "stdout",
     "output_type": "stream",
     "text": [
      "Success: calculate_tax\n"
     ]
    }
   ],
   "source": [
    "%run -i calculate_tax.py"
   ]
  }
 ],
 "metadata": {
  "kernelspec": {
   "display_name": "Python 3",
   "language": "python",
   "name": "python3"
  },
  "language_info": {
   "codemirror_mode": {
    "name": "ipython",
    "version": 3
   },
   "file_extension": ".py",
   "mimetype": "text/x-python",
   "name": "python",
   "nbconvert_exporter": "python",
   "pygments_lexer": "ipython3",
   "version": "3.5.6"
  }
 },
 "nbformat": 4,
 "nbformat_minor": 2
}
