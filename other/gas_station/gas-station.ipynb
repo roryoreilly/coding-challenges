{
 "cells": [
  {
   "cell_type": "markdown",
   "metadata": {},
   "source": [
    "# Gas Station\n",
    "\n",
    "## Problem\n",
    "Given two integer arrays A and B of size N.\n",
    "There are N gas stations along a circular route, where the amount of gas at station i is A[i].\n",
    "\n",
    "You have a car with an unlimited gas tank and it costs B[i] of gas to travel from station i\n",
    "to its next station (i+1). You begin the journey with an empty tank at one of the gas stations.\n",
    "\n",
    "Return the minimum starting gas station’s index if you can travel around the circuit once, otherwise return -1.\n",
    "\n",
    "You can only travel in one direction. i to i+1, i+2, … n-1, 0, 1, 2.. Completing the circuit means starting at i and\n",
    "ending up at i again.\n",
    "\n",
    "#### Example\n",
    "Input 1:\n",
    "\n",
    "    A =  [1, 2]\n",
    "    B =  [2, 1]\n",
    "\n",
    "Output 1:\n",
    "\n",
    "    1\n",
    "    \n",
    "Explanation 1:\n",
    "\n",
    "    If you start from index 0, you can fill in A[0] = 1 amount of gas. Now your tank has 1 unit of gas. But you need B[0] = 2 gas to travel to station 1. \n",
    "    \n",
    "    If you start from index 1, you can fill in A[1] = 2 amount of gas. Now your tank has 2 units of gas. You need B[1] = 1 gas to get to station 0. So, you travel to station 0 and still have 1 unit of gas left over. You fill in A[0] = 1 unit of additional gas, making your current gas = 2. It costs you B[0] = 2 to get to station 1, which you do and complete the circuit. "
   ]
  },
  {
   "cell_type": "markdown",
   "metadata": {},
   "source": [
    "## Questions asked and constraints\n",
    "- "
   ]
  },
  {
   "cell_type": "markdown",
   "metadata": {},
   "source": [
    "## Algorithm 1\n",
    "Have a function to find whether a car can go a single trip on the current route\n",
    "Use this on the set of possible routes. Iterating to the next route by placing the station/gas cost at index 1 at the end of the array\n",
    "\n",
    "### Complexity:\n",
    "    Time: O(n^2)\n",
    "    Space: O(1)\n",
    "\n",
    "### Code"
   ]
  },
  {
   "cell_type": "code",
   "execution_count": 37,
   "metadata": {},
   "outputs": [],
   "source": [
    "import numpy as np\n",
    "\n",
    "class GasStation(object):\n",
    "    def minimum_stating_gas(self, gas_in_stations, gas_cost):\n",
    "        for i in range(len(gas_in_stations)):\n",
    "            gas = self.gas_for_trip(gas_in_stations, gas_cost)\n",
    "            if gas >= 0:\n",
    "                return i\n",
    "            \n",
    "            gas_in_stations = gas_in_stations[1:] + [gas_in_stations[0]]\n",
    "            gas_cost = gas_cost[1:] + [gas_cost[0]]\n",
    "        return -1\n",
    "    \n",
    "    def gas_for_trip(self, gas_in_stations, gas_cost):\n",
    "        gas = 0\n",
    "        for j in range(len(gas_in_stations)):\n",
    "            gas += gas_in_stations[j] - gas_cost[j]\n",
    "            if gas < 0:\n",
    "                return -1\n",
    "        return gas"
   ]
  },
  {
   "cell_type": "markdown",
   "metadata": {},
   "source": [
    "## Algorithm 2\n",
    "Attach the gas info onto the end of the current route\n",
    "Find a cumsum using numpy\n",
    "find the first location of a set of values (equal to the route len) that each are positive in relation to the first value\n",
    "\n",
    "### Complexity:\n",
    "    Time: O(n^2)\n",
    "    Space: O(1)\n",
    "\n",
    "### Code"
   ]
  },
  {
   "cell_type": "markdown",
   "metadata": {},
   "source": [
    "## Unit Tests"
   ]
  },
  {
   "cell_type": "code",
   "execution_count": 35,
   "metadata": {},
   "outputs": [
    {
     "name": "stdout",
     "output_type": "stream",
     "text": [
      "Overwriting test_gas_station.py\n"
     ]
    }
   ],
   "source": [
    "%%writefile test_gas_station.py\n",
    "from nose.tools import assert_equal\n",
    "\n",
    "class TestGasStation(object):\n",
    "    def test_minimum_stating_gas(self, func):\n",
    "        assert_equal(func([1, 2], [2, 1]), 1)\n",
    "        assert_equal(func([1, 1, 1], [2, 2, 2]), -1)\n",
    "        assert_equal(func([1, 1, 3], [2, 2, 1]), 2)\n",
    "        print('Success: test_minimum_stating_gas')\n",
    "        \n",
    "    def test_single_gas_trip(self, func):\n",
    "        assert_equal(func([2, 1], [1, 2]), 0)\n",
    "        assert_equal(func([1, 1, 1], [2, 2, 2]), -1)\n",
    "        print('Success: test_single_gas_trip')\n",
    "        \n",
    "def main():\n",
    "    test = TestGasStation()\n",
    "    gas_station = GasStation()\n",
    "    test.test_single_gas_trip(gas_station.gas_for_trip)\n",
    "    test.test_minimum_stating_gas(gas_station.minimum_stating_gas)\n",
    "    \n",
    "if __name__ == '__main__':\n",
    "    main()"
   ]
  },
  {
   "cell_type": "code",
   "execution_count": 36,
   "metadata": {},
   "outputs": [
    {
     "name": "stdout",
     "output_type": "stream",
     "text": [
      "Success: test_single_gas_trip\n",
      "Success: test_minimum_stating_gas\n"
     ]
    }
   ],
   "source": [
    "%run -i test_gas_station.py"
   ]
  },
  {
   "cell_type": "code",
   "execution_count": null,
   "metadata": {},
   "outputs": [],
   "source": []
  },
  {
   "cell_type": "code",
   "execution_count": null,
   "metadata": {},
   "outputs": [],
   "source": []
  }
 ],
 "metadata": {
  "kernelspec": {
   "display_name": "Python 3",
   "language": "python",
   "name": "python3"
  },
  "language_info": {
   "codemirror_mode": {
    "name": "ipython",
    "version": 3
   },
   "file_extension": ".py",
   "mimetype": "text/x-python",
   "name": "python",
   "nbconvert_exporter": "python",
   "pygments_lexer": "ipython3",
   "version": "3.5.6"
  }
 },
 "nbformat": 4,
 "nbformat_minor": 2
}
